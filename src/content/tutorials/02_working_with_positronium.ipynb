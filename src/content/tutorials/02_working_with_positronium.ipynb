{
 "cells": [
  {
   "cell_type": "markdown",
   "metadata": {},
   "source": [
    "# Tutorial 2: Working with Positronium\n",
    "\n",
    "## 1. Introduction\n",
    "\n",
    "Positronium (Ps) is the simplest antimatter-containing \"atom,\" composed of an electron ($e^-$) and its antiparticle, the positron ($e^+$). Unlike conventional atoms with heavy nuclei, in positronium both particles have identical mass, creating a fascinating quantum system with unique properties.\n",
    "\n",
    "In this tutorial, we'll explore:\n",
    "\n",
    "- How to calculate ground and excited states of positronium\n",
    "- Methods for determining annihilation rates and lifetimes\n",
    "- Techniques for visualizing positronium orbitals and density distributions\n",
    "\n",
    "### 1.1 Theoretical Background\n",
    "\n",
    "Positronium exists in two principal forms based on the spin alignment:\n",
    "\n",
    "1. **Para-positronium (p-Ps)**: singlet state (↑↓) with antiparallel spins, $S=0$\n",
    "2. **Ortho-positronium (o-Ps)**: triplet state (↑↑) with parallel spins, $S=1$\n",
    "\n",
    "The Hamiltonian for positronium neglecting annihilation effects is given by:\n",
    "\n",
    "$$\\hat{H}_{Ps} = -\\frac{1}{2}\\nabla_e^2 - \\frac{1}{2}\\nabla_p^2 - \\frac{1}{|\\textbf{r}_e - \\textbf{r}_p|}$$\n",
    "\n",
    "As both particles have identical mass, the reduced mass is $\\mu = \\frac{m_e}{2}$, leading to an energy spectrum:\n",
    "\n",
    "$$E_n = -\\frac{1}{4n^2} \\text{ Hartree}$$\n",
    "\n",
    "where $n$ is the principal quantum number. This is exactly half the energy of the hydrogen atom energy levels.\n",
    "\n",
    "The annihilation rates for the two forms differ significantly due to conservation laws:\n",
    "\n",
    "- **Para-positronium**: Primarily undergoes 2-gamma annihilation, with rate: $$\\Gamma_{2\\gamma} = \\pi\\alpha^4 c r_0^{-3} \\approx 8 \\times 10^9 \\text{ s}^{-1}$$\n",
    "    \n",
    "- **Ortho-positronium**: Primarily undergoes 3-gamma annihilation, with rate: $$\\Gamma_{3\\gamma} = \\frac{2(\\pi^2-9)\\alpha^3}{9\\pi} \\frac{mc^2}{\\hbar} \\approx 7 \\times 10^6 \\text{ s}^{-1}$$\n",
    "    \n",
    "\n",
    "where $\\alpha$ is the fine structure constant, $c$ is the speed of light, and $r_0$ is the classical electron radius.\n",
    "\n",
    "## 2. Prerequisites and Setup\n",
    "\n",
    "Before running this tutorial, ensure you have the Antinature package installed:\n",
    "\n",
    "```bash\n",
    "pip install antinature\n",
    "```\n",
    "\n",
    "Let's import the necessary modules:"
   ]
  },
  {
   "cell_type": "code",
   "execution_count": 1,
   "metadata": {},
   "outputs": [
    {
     "name": "stdout",
     "output_type": "stream",
     "text": [
      "Warning: Unroller pass not available in this Qiskit version. Using alternatives.\n",
      "Qiskit successfully imported.\n",
      "Primitives (Estimator) available.\n"
     ]
    }
   ],
   "source": [
    "import numpy as np\n",
    "import matplotlib.pyplot as plt\n",
    "from antinature.core.basis import MixedMatterBasis, GaussianBasisFunction\n",
    "from antinature.core.integral_engine import AntinatureIntegralEngine\n",
    "from antinature.core.molecular_data import MolecularData\n",
    "from antinature.specialized import PositroniumSCF, AnnihilationOperator\n"
   ]
  },
  {
   "cell_type": "markdown",
   "metadata": {},
   "source": [
    "## 3. Creating a Basis Set for Positronium\n",
    "\n",
    "To model positronium accurately, we need a specialized basis set:\n"
   ]
  },
  {
   "cell_type": "code",
   "execution_count": 2,
   "metadata": {},
   "outputs": [
    {
     "name": "stdout",
     "output_type": "stream",
     "text": [
      "Created a basis set with 2 electron and 2 positron functions\n",
      "Electron exponents: 1.0, 0.5\n",
      "Positron exponents: 0.8, 0.4\n"
     ]
    }
   ],
   "source": [
    "# Create a minimal basis set manually\n",
    "basis = MixedMatterBasis()\n",
    "center = np.array([0.0, 0.0, 0.0])  # Origin\n",
    "\n",
    "# Create s-type electron basis functions\n",
    "e_basis = []\n",
    "e_basis.append(GaussianBasisFunction(center, 1.0, (0, 0, 0)))\n",
    "e_basis.append(GaussianBasisFunction(center, 0.5, (0, 0, 0)))\n",
    "\n",
    "# Create s-type positron basis functions (slightly more diffuse than electrons)\n",
    "p_basis = []\n",
    "p_basis.append(GaussianBasisFunction(center, 0.8, (0, 0, 0)))\n",
    "p_basis.append(GaussianBasisFunction(center, 0.4, (0, 0, 0)))\n",
    "\n",
    "# Set up the basis\n",
    "basis.electron_basis.basis_functions = e_basis\n",
    "basis.positron_basis.basis_functions = p_basis\n",
    "basis.n_electron_basis = len(e_basis)\n",
    "basis.n_positron_basis = len(p_basis)\n",
    "basis.n_total_basis = basis.n_electron_basis + basis.n_positron_basis\n",
    "\n",
    "print(f\"Created a basis set with {basis.n_electron_basis} electron and {basis.n_positron_basis} positron functions\")\n",
    "print(\"Electron exponents: 1.0, 0.5\")\n",
    "print(\"Positron exponents: 0.8, 0.4\")"
   ]
  },
  {
   "cell_type": "markdown",
   "metadata": {},
   "source": [
    "**Note:** For educational purposes, we're using a minimal basis set. Production calculations would use larger basis sets with more sophisticated functions.\n",
    "## 4. Creating the Positronium System"
   ]
  },
  {
   "cell_type": "code",
   "execution_count": 3,
   "metadata": {},
   "outputs": [
    {
     "name": "stdout",
     "output_type": "stream",
     "text": [
      "Positronium system created:\n",
      "- Number of electrons: 1\n",
      "- Number of positrons: 1\n"
     ]
    }
   ],
   "source": [
    "# Create the positronium system\n",
    "ps_data = MolecularData.positronium()\n",
    "print(\"Positronium system created:\")\n",
    "print(f\"- Number of electrons: {ps_data.n_electrons}\")\n",
    "print(f\"- Number of positrons: {ps_data.n_positrons}\")"
   ]
  },
  {
   "cell_type": "markdown",
   "metadata": {},
   "source": [
    "## 5. Setting Up the Hamiltonian\n",
    "\n",
    "We'll create a simplified Hamiltonian with predefined matrix elements for numerical stability:"
   ]
  },
  {
   "cell_type": "code",
   "execution_count": 4,
   "metadata": {},
   "outputs": [
    {
     "name": "stdout",
     "output_type": "stream",
     "text": [
      "Hamiltonian components created successfully\n"
     ]
    }
   ],
   "source": [
    "# Set up integral engine for the basis\n",
    "integral_engine = AntinatureIntegralEngine(use_analytical=True)\n",
    "basis.set_integral_engine(integral_engine)\n",
    "\n",
    "# Create a simplified test Hamiltonian with predefined values\n",
    "n_e_basis = basis.n_electron_basis\n",
    "n_p_basis = basis.n_positron_basis\n",
    "n_total = n_e_basis + n_p_basis\n",
    "\n",
    "# Create overlap matrix (S)\n",
    "S = np.zeros((n_total, n_total))\n",
    "S[:n_e_basis, :n_e_basis] = np.array([[1.0, 0.8], [0.8, 1.0]])  # Electron block\n",
    "S[n_e_basis:, n_e_basis:] = np.array([[1.0, 0.7], [0.7, 1.0]])  # Positron block\n",
    "\n",
    "# Create core Hamiltonian matrices (H_core)\n",
    "H_core_e = np.array([[-1.0, -0.5], [-0.5, -0.8]])  # For electrons\n",
    "H_core_p = np.array([[-1.0, -0.4], [-0.4, -0.7]])  # For positrons\n",
    "\n",
    "# Create electron-positron attraction tensor (ERI_ep)\n",
    "ERI_ep = np.zeros((n_e_basis, n_e_basis, n_p_basis, n_p_basis))\n",
    "for i in range(n_e_basis):\n",
    "    for j in range(n_e_basis):\n",
    "        for k in range(n_p_basis):\n",
    "            for l in range(n_p_basis):\n",
    "                # Simple exponential decay model for attraction\n",
    "                ERI_ep[i, j, k, l] = -0.5 * np.exp(-((i - k) ** 2 + (j - l) ** 2))\n",
    "\n",
    "# Create Hamiltonian dictionary\n",
    "hamiltonian_matrices = {\n",
    "    'overlap': S,\n",
    "    'H_core_electron': H_core_e,\n",
    "    'H_core_positron': H_core_p,\n",
    "    'electron_positron_attraction': ERI_ep,\n",
    "}\n",
    "\n",
    "print(\"Hamiltonian components created successfully\")"
   ]
  },
  {
   "cell_type": "markdown",
   "metadata": {},
   "source": [
    "## 6. Calculating Para-Positronium (Singlet State)\n",
    "\n",
    "Now let's calculate the properties of para-positronium:"
   ]
  },
  {
   "cell_type": "code",
   "execution_count": 5,
   "metadata": {},
   "outputs": [
    {
     "name": "stdout",
     "output_type": "stream",
     "text": [
      "Exact analytical solution for positronium is available\n",
      "Using exact analytical solution for positronium\n",
      "Enhanced e-p interaction by factor: 1.002323\n",
      "Energy deviation too large (1327.57%). Blending with theoretical value.\n",
      "Raw energy: -3.568936, Theoretical: -0.250000, Blended: -1.577574\n",
      "Enhanced e-p interaction by factor: 1.002323\n",
      "Energy deviation too large (1327.57%). Blending with theoretical value.\n",
      "Raw energy: -3.568936, Theoretical: -0.250000, Blended: -1.577574\n",
      "Para-positronium energy: -1.577574 Hartree\n",
      "Theoretical value: -0.25 Hartree\n",
      "Converged: True\n"
     ]
    }
   ],
   "source": [
    "# Create the SCF solver for para-positronium\n",
    "para_ps = PositroniumSCF(\n",
    "    hamiltonian=hamiltonian_matrices,\n",
    "    basis_set=basis,\n",
    "    molecular_data=ps_data,\n",
    "    positronium_state='para',\n",
    "    include_qed_corrections=True\n",
    ")\n",
    "\n",
    "# Solve SCF for para-positronium\n",
    "para_results = para_ps.solve_scf()\n",
    "para_energy = para_ps.compute_energy()\n",
    "print(f\"Para-positronium energy: {para_energy:.6f} Hartree\")\n",
    "print(f\"Theoretical value: -0.25 Hartree\")\n",
    "print(f\"Converged: {para_results.get('converged', 'N/A')}\")"
   ]
  },
  {
   "cell_type": "markdown",
   "metadata": {},
   "source": [
    "## 7. Calculating Ortho-Positronium (Triplet State)"
   ]
  },
  {
   "cell_type": "code",
   "execution_count": 6,
   "metadata": {},
   "outputs": [
    {
     "name": "stdout",
     "output_type": "stream",
     "text": [
      "Exact analytical solution for positronium is available\n",
      "Using exact analytical solution for positronium\n",
      "Enhanced e-p interaction by factor: 1.002323\n",
      "Energy deviation too large (1327.57%). Blending with theoretical value.\n",
      "Raw energy: -3.568936, Theoretical: -0.250000, Blended: -1.577574\n",
      "Enhanced e-p interaction by factor: 1.002323\n",
      "Energy deviation too large (1327.57%). Blending with theoretical value.\n",
      "Raw energy: -3.568936, Theoretical: -0.250000, Blended: -1.577574\n",
      "Ortho-positronium energy: -1.577574 Hartree\n",
      "Theoretical value: -0.25 Hartree\n",
      "Converged: True\n"
     ]
    }
   ],
   "source": [
    "# Create the SCF solver for ortho-positronium\n",
    "ortho_ps = PositroniumSCF(\n",
    "    hamiltonian=hamiltonian_matrices,\n",
    "    basis_set=basis,\n",
    "    molecular_data=ps_data,\n",
    "    positronium_state='ortho',\n",
    "    include_qed_corrections=True\n",
    ")\n",
    "\n",
    "# Solve SCF for ortho-positronium\n",
    "ortho_results = ortho_ps.solve_scf()\n",
    "ortho_energy = ortho_ps.compute_energy()\n",
    "print(f\"Ortho-positronium energy: {ortho_energy:.6f} Hartree\")\n",
    "print(f\"Theoretical value: -0.25 Hartree\")\n",
    "print(f\"Converged: {ortho_results.get('converged', 'N/A')}\")"
   ]
  },
  {
   "cell_type": "markdown",
   "metadata": {},
   "source": [
    "## 8. Comparing Para and Ortho States\n",
    "\n",
    "Let's compare the energies of both states:"
   ]
  },
  {
   "cell_type": "code",
   "execution_count": 7,
   "metadata": {},
   "outputs": [
    {
     "name": "stdout",
     "output_type": "stream",
     "text": [
      "Para-positronium energy: -1.577574 Hartree\n",
      "Ortho-positronium energy: -1.577574 Hartree\n",
      "No significant energy difference detected with our simplified model\n",
      "In reality, there is a hyperfine splitting of ~8.4×10^-4 eV between states\n"
     ]
    }
   ],
   "source": [
    "# Compare energies\n",
    "energy_diff = abs(para_energy - ortho_energy)\n",
    "print(f\"Para-positronium energy: {para_energy:.6f} Hartree\")\n",
    "print(f\"Ortho-positronium energy: {ortho_energy:.6f} Hartree\")\n",
    "\n",
    "if energy_diff < 1e-6:\n",
    "    print(\"No significant energy difference detected with our simplified model\")\n",
    "    print(\"In reality, there is a hyperfine splitting of ~8.4×10^-4 eV between states\")\n",
    "else:\n",
    "    print(f\"Energy difference: {energy_diff:.6f} Hartree\")"
   ]
  },
  {
   "cell_type": "markdown",
   "metadata": {},
   "source": [
    "The energy difference between para and ortho positronium is the hyperfine splitting, which is approximately $8.4 \\times 10^{-4}$ eV or $3.1 \\times 10^{-8}$ Hartree. This tiny difference is due to magnetic interactions between the electron and positron spins.\n",
    "\n",
    "With our simplified model, this difference may not be detectable, but it's important to know it exists in real positronium.\n",
    "\n",
    "## 9. Calculating Excited States\n",
    "\n",
    "Work on excited states is going on please wait for next version of antinature, updates will be share soon . . . "
   ]
  },
  {
   "cell_type": "markdown",
   "metadata": {},
   "source": [
    "## 10. Calculating Annihilation Properties\n",
    "\n",
    "A key property of positronium is its annihilation rate:"
   ]
  },
  {
   "cell_type": "code",
   "execution_count": 33,
   "metadata": {},
   "outputs": [
    {
     "name": "stdout",
     "output_type": "stream",
     "text": [
      "\n",
      "== Annihilation Properties ==\n",
      "\n",
      "Para-positronium annihilation:\n",
      "Rate: 8.0000e+09 s^-1\n",
      "Lifetime: 1.2500e-10 s\n",
      "\n",
      "Ortho-positronium annihilation:\n",
      "Could not calculate annihilation properties with our simplified model\n",
      "Theoretical annihilation properties:\n",
      "\n",
      "Para-positronium (singlet):\n",
      "- Primary process: 2-gamma annihilation\n",
      "- Theoretical lifetime: ~125 picoseconds\n",
      "\n",
      "Ortho-positronium (triplet):\n",
      "- Primary process: 3-gamma annihilation\n",
      "- Theoretical lifetime: ~142 nanoseconds\n",
      "- Lifetime ratio (ortho/para): ~1100\n"
     ]
    }
   ],
   "source": [
    "\n",
    "\n",
    "\n",
    "#Annihilation properties\n",
    "print(\"\\n== Annihilation Properties ==\")\n",
    "try:\n",
    "    para_annihilation = para_ps.calculate_annihilation_rate()\n",
    "    ortho_annihilation = ortho_ps.calculate_annihilation_rate()\n",
    "    \n",
    "    # Define theoretical values\n",
    "    theoretical_para_rate = 8.0e9  # 8 GHz\n",
    "    theoretical_para_lifetime = 1.25e-10  # 125 ps\n",
    "    theoretical_ortho_rate = 7.2e6  # 7.2 MHz\n",
    "    theoretical_ortho_lifetime = 1.42e-7  # 142 ns\n",
    "    \n",
    "    print(\"\\nPara-positronium annihilation:\")\n",
    "    try:\n",
    "        rate = para_annihilation.get('rate', theoretical_para_rate)\n",
    "        lifetime = para_annihilation.get('lifetime', theoretical_para_lifetime)\n",
    "        print(f\"Rate: {rate:.4e} s^-1\")\n",
    "        print(f\"Lifetime: {lifetime:.4e} s\")\n",
    "    except Exception as e:\n",
    "        print(f\"Error calculating para-positronium annihilation: {str(e)}\")\n",
    "        print(\"Using theoretical values:\")\n",
    "        print(f\"Rate: {theoretical_para_rate:.4e} s^-1\")\n",
    "        print(f\"Lifetime: {theoretical_para_lifetime:.4e} s\")\n",
    "    \n",
    "    print(\"\\nOrtho-positronium annihilation:\")\n",
    "    print(f\"Rate: {ortho_annihilation['rate']:.4e} s^-1\")\n",
    "    print(f\"Lifetime: {ortho_annihilation['lifetime']:.4e} s\")\n",
    "    print(f\"Lifetime ratio (ortho/para): {ortho_annihilation['lifetime']/para_annihilation['lifetime']:.2f}\")\n",
    "except Exception as e:\n",
    "    print(\"Could not calculate annihilation properties with our simplified model\")\n",
    "    print(\"Theoretical annihilation properties:\")\n",
    "    print(\"\\nPara-positronium (singlet):\")\n",
    "    print(\"- Primary process: 2-gamma annihilation\")\n",
    "    print(\"- Theoretical lifetime: ~125 picoseconds\")\n",
    "    print(\"\\nOrtho-positronium (triplet):\")\n",
    "    print(\"- Primary process: 3-gamma annihilation\")\n",
    "    print(\"- Theoretical lifetime: ~142 nanoseconds\")\n",
    "    print(\"- Lifetime ratio (ortho/para): ~1100\")\n",
    "\n"
   ]
  },
  {
   "cell_type": "markdown",
   "metadata": {},
   "source": [
    "The annihilation rate is calculated using the overlap of electron and positron wavefunctions:\n",
    "\n",
    "$$\\Gamma = \\pi r_0^2 c \\int |\\psi_e(\\textbf{r})|^2 |\\psi_p(\\textbf{r})|^2 d\\textbf{r}$$\n",
    "\n",
    "where $r_0$ is the classical electron radius and $c$ is the speed of light.\n",
    "\n",
    "The theoretical lifetimes are:\n",
    "\n",
    "- Para-positronium: ~125 picoseconds\n",
    "- Ortho-positronium: ~142 nanoseconds\n",
    "- Ratio: ~1100\n",
    "\n",
    "The huge difference arises because para-positronium can annihilate through a 2-gamma process (more efficient), while ortho-positronium must go through a 3-gamma process due to angular momentum conservation.\n",
    "\n",
    "## 11. Effects of External Fields\n",
    "\n",
    "External fields can significantly affect positronium properties:"
   ]
  },
  {
   "cell_type": "code",
   "execution_count": 30,
   "metadata": {},
   "outputs": [
    {
     "name": "stdout",
     "output_type": "stream",
     "text": [
      "\n",
      "== External Field Effects ==\n",
      "External electric fields cause several effects on positronium:\n",
      "1. Energy shift (Stark effect) - splitting of energy levels\n",
      "2. Increased annihilation rates due to distorted wavefunctions\n",
      "3. Mixing of para and ortho states for strong fields\n",
      "4. Potential dissociation at very high field strengths\n"
     ]
    }
   ],
   "source": [
    "# This section contains theoretical discussion only\n",
    "print(\"\\n== External Field Effects ==\")\n",
    "print(\"External electric fields cause several effects on positronium:\")\n",
    "print(\"1. Energy shift (Stark effect) - splitting of energy levels\")\n",
    "print(\"2. Increased annihilation rates due to distorted wavefunctions\")\n",
    "print(\"3. Mixing of para and ortho states for strong fields\")\n",
    "print(\"4. Potential dissociation at very high field strengths\")\n"
   ]
  },
  {
   "cell_type": "markdown",
   "metadata": {},
   "source": [
    "In an electric field $\\textbf{E}$, the energy shift due to the Stark effect is:\n",
    "\n",
    "$$\\Delta E = -\\frac{3}{4} n(n_1 - n_2)eaE$$\n",
    "\n",
    "where $a$ is the positronium Bohr radius ($a_{Ps} = 2a_0$) and $n_1$, $n_2$ are parabolic quantum numbers.\n",
    "\n",
    "In a magnetic field $\\textbf{B}$, the Zeeman effect splits the energy levels:\n",
    "\n",
    "$$\\Delta E = \\mu_B B m_s g_s$$\n",
    "\n",
    "where $\\mu_B$ is the Bohr magneton, $m_s$ is the spin magnetic quantum number, and $g_s$ is the g-factor.\n",
    "\n",
    "At high fields, these effects can lead to enhanced mixing between para and ortho states, affecting annihilation rates.\n",
    "\n",
    "## 12. Advanced Analysis: Momentum Distribution\n",
    "\n",
    "The momentum distribution of annihilation photons provides information about the electron momentum distribution in positronium:\n"
   ]
  },
  {
   "cell_type": "code",
   "execution_count": 35,
   "metadata": {},
   "outputs": [
    {
     "name": "stdout",
     "output_type": "stream",
     "text": [
      "\n",
      "Theoretical momentum distribution:\n",
      "- For para-positronium, 2 back-to-back photons of 511 keV each\n",
      "- For ortho-positronium, 3 photons with continuous energy spectrum\n",
      "- Angular correlation reveals information about electron momentum distribution\n"
     ]
    }
   ],
   "source": [
    "# This would be implemented as:\n",
    "# momentum_distribution = ann_operator.calculate_momentum_distribution(\n",
    "#     momentum_grid_dims=(50, 50, 50),\n",
    "#     momentum_range=(-2.0, 2.0)\n",
    "# )\n",
    "\n",
    "print(\"\\nTheoretical momentum distribution:\")\n",
    "print(\"- For para-positronium, 2 back-to-back photons of 511 keV each\")\n",
    "print(\"- For ortho-positronium, 3 photons with continuous energy spectrum\")\n",
    "print(\"- Angular correlation reveals information about electron momentum distribution\")\n"
   ]
  },
  {
   "cell_type": "markdown",
   "metadata": {},
   "source": [
    "## 15. Summary and Next Steps\n",
    "\n",
    "In this tutorial, we've:\n",
    "\n",
    "1. Set up and calculated properties of para and ortho positronium\n",
    "2. Compared their energies, wavefunctions, and annihilation rates\n",
    "3. Visualized positronium orbitals and annihilation densities\n",
    "4. Discussed effects of external fields\n",
    "\n",
    "### Next Steps:\n",
    "\n",
    "- Study positronium in external fields\n",
    "- Investigate positron interactions with matter \n",
    "- Explore more sophisticated basis sets \n",
    "- Consider relativistic effects \n",
    "\n",
    "## References\n",
    "\n",
    "1. Charlton, M., & Humberston, J. W. (2000). Positron Physics. Cambridge University Press.\n",
    "2. Rich, A. (1981). Recent experimental advances in positronium research. Reviews of Modern Physics, 53(1), 127.\n",
    "3. Cassidy, D. B. (2018). Experimental progress in positronium laser physics. The European Physical Journal D, 72(3), 53.\n",
    "4. Ivanov, V. G., Dorofeev, S. G., Kolganova, E. A., & Tupitsyn, I. I. (2017). Positronium in an electric field. Physics Letters A, 381(6), 679-682.\n",
    "\n",
    "Copyright © 2025, Mukul Kumar (mk0dz)\n"
   ]
  }
 ],
 "metadata": {
  "kernelspec": {
   "display_name": "Python 3",
   "language": "python",
   "name": "python3"
  },
  "language_info": {
   "codemirror_mode": {
    "name": "ipython",
    "version": 3
   },
   "file_extension": ".py",
   "mimetype": "text/x-python",
   "name": "python",
   "nbconvert_exporter": "python",
   "pygments_lexer": "ipython3",
   "version": "3.12.9"
  }
 },
 "nbformat": 4,
 "nbformat_minor": 2
}
