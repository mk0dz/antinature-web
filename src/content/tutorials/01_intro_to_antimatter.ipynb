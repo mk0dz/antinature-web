{
 "cells": [
  {
   "cell_type": "markdown",
   "metadata": {},
   "source": [
    "# Tutorial 1: Introduction to Antimatter Quantum Chemistry\n",
    "\n",
    "## 1. Introduction\n",
    "\n",
    "Antimatter quantum chemistry extends conventional quantum chemistry methods to study exotic systems containing antimatter particles. Unlike ordinary matter, antimatter particles have the same mass but opposite charge as their matter counterparts. For example, a positron ($e^+$) is the antimatter equivalent of an electron ($e^-$), with the same mass but positive charge.\n",
    "\n",
    "In this tutorial, we'll explore the fundamental concepts of antimatter quantum chemistry and set up a calculation for positronium, the simplest antimatter-containing system.\n",
    "\n",
    "### 1.1 Theoretical Background\n",
    "\n",
    "Positronium (Ps) is a bound state of an electron and a positron, analogous to a hydrogen atom where the proton is replaced by a positron. The Hamiltonian for positronium in atomic units is:\n",
    "\n",
    "$$\\hat{H}_{Ps} = -\\frac{1}{2}\\nabla_e^2 - \\frac{1}{2}\\nabla_p^2 - \\frac{1}{|\\textbf{r}_e - \\textbf{r}_p|} + \\hat{H}_{ann}$$\n",
    "\n",
    "Where:\n",
    "\n",
    "- $\\nabla_e^2$ and $\\nabla_p^2$ are the Laplacian operators for the electron and positron\n",
    "- $\\frac{1}{|\\textbf{r}_e - \\textbf{r}_p|}$ represents the Coulomb attraction between the particles\n",
    "- $\\hat{H}_{ann}$ is the annihilation operator\n",
    "\n",
    "Positronium exists in two main forms:\n",
    "\n",
    "- **Para-positronium**: singlet state (antiparallel spins), annihilates primarily via 2-gamma process, lifetime ~125 picoseconds\n",
    "- **Ortho-positronium**: triplet state (parallel spins), annihilates primarily via 3-gamma process, lifetime ~142 nanoseconds\n",
    "\n",
    "### 1.2 Antimatter vs. Conventional Quantum Chemistry\n",
    "\n",
    "Conventional quantum chemistry primarily deals with nuclei and electrons. Extending these methods to antimatter systems requires:\n",
    "\n",
    "1. Specialized basis sets for positrons (typically more diffuse than for electrons)\n",
    "2. Modified Hamiltonians that account for electron-positron interactions\n",
    "3. Inclusion of annihilation effects\n",
    "4. Consideration of relativistic and QED (Quantum Electrodynamics) corrections\n",
    "\n",
    "## 2. Prerequisites and Setup\n",
    "\n",
    "Before running this tutorial, ensure you have installed the Antinature package:\n",
    "\n",
    "```bash\n",
    "pip install antinature\n",
    "```\n",
    "\n",
    "Let's import the necessary modules:\n"
   ]
  },
  {
   "cell_type": "code",
   "execution_count": 1,
   "metadata": {},
   "outputs": [
    {
     "name": "stdout",
     "output_type": "stream",
     "text": [
      "Warning: Unroller pass not available in this Qiskit version. Using alternatives.\n",
      "Qiskit successfully imported.\n",
      "Primitives (Estimator) available.\n"
     ]
    }
   ],
   "source": [
    "import numpy as np\n",
    "import matplotlib.pyplot as plt\n",
    "from scipy import linalg\n",
    "from antinature.core.basis import MixedMatterBasis, GaussianBasisFunction\n",
    "from antinature.core.hamiltonian import AntinatureHamiltonian\n",
    "from antinature.core.integral_engine import AntinatureIntegralEngine\n",
    "from antinature.specialized import PositroniumSCF\n",
    "from antinature.core.molecular_data import MolecularData"
   ]
  },
  {
   "cell_type": "markdown",
   "metadata": {},
   "source": [
    "## 3. Creating a Basis Set for Positronium\n",
    "\n",
    "In quantum chemistry, basis sets are collections of functions used to represent molecular orbitals. For antimatter systems, we need specialized basis sets that can accurately describe both electron and positron behavior.\n",
    "\n",
    "For this tutorial, we'll create a minimal basis set with just a few functions to ensure numerical stability:"
   ]
  },
  {
   "cell_type": "code",
   "execution_count": 2,
   "metadata": {},
   "outputs": [
    {
     "name": "stdout",
     "output_type": "stream",
     "text": [
      "Created a basis set with 2 electron and 2 positron functions\n",
      "Electron exponents: 1.0, 0.5\n",
      "Positron exponents: 0.8, 0.4\n",
      "(Positron basis functions are more diffuse to represent the extended nature of positronium)\n"
     ]
    }
   ],
   "source": [
    "# Create a minimal basis set manually\n",
    "basis = MixedMatterBasis()\n",
    "center = np.array([0.0, 0.0, 0.0])  # Origin\n",
    "\n",
    "# Create s-type electron basis functions\n",
    "e_basis = []\n",
    "e_basis.append(GaussianBasisFunction(center, 1.0, (0, 0, 0)))\n",
    "e_basis.append(GaussianBasisFunction(center, 0.5, (0, 0, 0)))\n",
    "\n",
    "# Create s-type positron basis functions (slightly more diffuse than electrons)\n",
    "p_basis = []\n",
    "p_basis.append(GaussianBasisFunction(center, 0.8, (0, 0, 0)))\n",
    "p_basis.append(GaussianBasisFunction(center, 0.4, (0, 0, 0)))\n",
    "\n",
    "# Set up the basis\n",
    "basis.electron_basis.basis_functions = e_basis\n",
    "basis.positron_basis.basis_functions = p_basis\n",
    "basis.n_electron_basis = len(e_basis)\n",
    "basis.n_positron_basis = len(p_basis)\n",
    "basis.n_total_basis = basis.n_electron_basis + basis.n_positron_basis\n",
    "\n",
    "print(f\"Created a basis set with {basis.n_electron_basis} electron and {basis.n_positron_basis} positron functions\")\n",
    "print(\"Electron exponents: 1.0, 0.5\")\n",
    "print(\"Positron exponents: 0.8, 0.4\")\n",
    "print(\"(Positron basis functions are more diffuse to represent the extended nature of positronium)\")"
   ]
  },
  {
   "cell_type": "markdown",
   "metadata": {},
   "source": [
    "**Note**: Positron basis functions typically have smaller exponents (more diffuse) than electron basis functions. This is because:\n",
    "\n",
    "1. The positron experiences repulsion from nuclei rather than attraction\n",
    "2. Electron-positron correlation effects lead to a more extended positron distribution\n",
    "3. Accurate description of annihilation requires good representation of electron-positron overlap regions\n",
    "\n",
    "## 4. Defining the Positronium System\n",
    "\n",
    "Next, we'll define the positronium system using `MolecularData`:"
   ]
  },
  {
   "cell_type": "code",
   "execution_count": 3,
   "metadata": {},
   "outputs": [
    {
     "name": "stdout",
     "output_type": "stream",
     "text": [
      "Positronium system created:\n",
      "- Number of electrons: 1\n",
      "- Number of positrons: 1\n",
      "- System charge: 0\n",
      "- Description: Positronium (e- + e+) bound state\n"
     ]
    }
   ],
   "source": [
    "# Define the positronium system\n",
    "ps_data = MolecularData.positronium()\n",
    "print(\"Positronium system created:\")\n",
    "print(f\"- Number of electrons: {ps_data.n_electrons}\")\n",
    "print(f\"- Number of positrons: {ps_data.n_positrons}\")\n",
    "print(f\"- System charge: {ps_data.charge}\")\n",
    "print(f\"- Description: {ps_data.description}\")"
   ]
  },
  {
   "cell_type": "markdown",
   "metadata": {},
   "source": [
    "The `MolecularData.positronium()` factory method creates a system with one electron and one positron, with a total charge of 0. By default, it creates para-positronium (singlet state).\n",
    "\n",
    "## 5. Creating the Hamiltonian\n",
    "\n",
    "The Hamiltonian defines the energy operators for our quantum system. For positronium, we need to include:\n",
    "\n",
    "- Kinetic energy terms for both the electron and positron\n",
    "- The Coulomb attraction between the electron and positron\n",
    "- Annihilation effects (for accurate lifetime calculations)\n",
    "\n",
    "For educational purposes, we'll create a simplified Hamiltonian with predefined matrix elements:"
   ]
  },
  {
   "cell_type": "code",
   "execution_count": 4,
   "metadata": {},
   "outputs": [
    {
     "name": "stdout",
     "output_type": "stream",
     "text": [
      "Hamiltonian components created:\n",
      "- Overlap matrix (S): 4×4 matrix\n",
      "- Electron core Hamiltonian: 2×2 matrix\n",
      "- Positron core Hamiltonian: 2×2 matrix\n",
      "- Electron-positron attraction: 2×2×2×2 tensor\n"
     ]
    }
   ],
   "source": [
    "# Set up integral engine for the basis\n",
    "integral_engine = AntinatureIntegralEngine(use_analytical=True)\n",
    "basis.set_integral_engine(integral_engine)\n",
    "\n",
    "# Create a simplified test Hamiltonian with predefined values\n",
    "n_e_basis = basis.n_electron_basis\n",
    "n_p_basis = basis.n_positron_basis\n",
    "n_total = n_e_basis + n_p_basis\n",
    "\n",
    "# Create overlap matrix (S)\n",
    "S = np.zeros((n_total, n_total))\n",
    "S[:n_e_basis, :n_e_basis] = np.array([[1.0, 0.8], [0.8, 1.0]])  # Electron block\n",
    "S[n_e_basis:, n_e_basis:] = np.array([[1.0, 0.7], [0.7, 1.0]])  # Positron block\n",
    "\n",
    "# Create core Hamiltonian matrices (H_core)\n",
    "H_core_e = np.array([[-1.0, -0.5], [-0.5, -0.8]])  # For electrons\n",
    "H_core_p = np.array([[-1.0, -0.4], [-0.4, -0.7]])  # For positrons\n",
    "\n",
    "# Create electron-positron attraction tensor (ERI_ep)\n",
    "ERI_ep = np.zeros((n_e_basis, n_e_basis, n_p_basis, n_p_basis))\n",
    "for i in range(n_e_basis):\n",
    "    for j in range(n_e_basis):\n",
    "        for k in range(n_p_basis):\n",
    "            for l in range(n_p_basis):\n",
    "                # Simple exponential decay model for attraction\n",
    "                ERI_ep[i, j, k, l] = -0.5 * np.exp(-((i - k) ** 2 + (j - l) ** 2))\n",
    "\n",
    "# Create Hamiltonian dictionary\n",
    "hamiltonian_matrices = {\n",
    "    'overlap': S,\n",
    "    'H_core_electron': H_core_e,\n",
    "    'H_core_positron': H_core_p,\n",
    "    'electron_positron_attraction': ERI_ep,\n",
    "}\n",
    "\n",
    "print(\"Hamiltonian components created:\")\n",
    "print(\"- Overlap matrix (S): 4×4 matrix\")\n",
    "print(\"- Electron core Hamiltonian: 2×2 matrix\")\n",
    "print(\"- Positron core Hamiltonian: 2×2 matrix\")\n",
    "print(\"- Electron-positron attraction: 2×2×2×2 tensor\")"
   ]
  },
  {
   "cell_type": "markdown",
   "metadata": {},
   "source": [
    "## 6. Setting Up and Running the SCF Calculation\n",
    "\n",
    "Now, we'll set up the Self-Consistent Field (SCF) calculation for para-positronium:"
   ]
  },
  {
   "cell_type": "code",
   "execution_count": 5,
   "metadata": {},
   "outputs": [
    {
     "name": "stdout",
     "output_type": "stream",
     "text": [
      "Exact analytical solution for positronium is available\n",
      "Using exact analytical solution for positronium\n",
      "Enhanced e-p interaction by factor: 1.002323\n",
      "Energy deviation too large (1327.57%). Blending with theoretical value.\n",
      "Raw energy: -3.568936, Theoretical: -0.250000, Blended: -1.577574\n",
      "Energy: -1.577574 Hartree\n",
      "Theoretical energy: -0.25 Hartree\n",
      "Iterations: 0\n",
      "Converged: True\n",
      "Used exact analytical solution for positronium\n"
     ]
    }
   ],
   "source": [
    "# Create the SCF solver for para-positronium\n",
    "ps_scf = PositroniumSCF(\n",
    "    hamiltonian=hamiltonian_matrices,\n",
    "    basis_set=basis,\n",
    "    molecular_data=ps_data,\n",
    "    positronium_state='para',  # para-positronium (singlet state)\n",
    "    include_qed_corrections=True,  # Include quantum electrodynamics corrections\n",
    "    convergence_threshold=1e-5,\n",
    "    damping_factor=0.5,\n",
    "    max_iterations=100\n",
    ")\n",
    "\n",
    "# Solve the SCF equations\n",
    "results = ps_scf.solve_scf()\n",
    "\n",
    "# Print the results\n",
    "print(f\"Energy: {results['energy']:.6f} Hartree\")\n",
    "print(f\"Theoretical energy: -0.25 Hartree\")\n",
    "print(f\"Iterations: {results.get('iterations', 'N/A')}\")\n",
    "print(f\"Converged: {results.get('converged', 'N/A')}\")\n",
    "\n",
    "if 'exact_solution' in results and results['exact_solution']:\n",
    "    print(\"Used exact analytical solution for positronium\")"
   ]
  },
  {
   "cell_type": "markdown",
   "metadata": {},
   "source": [
    "The energy of positronium in the ground state is exactly -0.25 Hartree (atomic units). This is half the energy of a hydrogen atom (-0.5 Hartree) because the reduced mass of the electron-positron system is half that of the electron-proton system.\n",
    "\n",
    "$$E_{Ps} = -\\frac{1}{4} \\text{ Hartree} = -6.8 \\text{ eV}$$\n",
    "\n",
    "Any deviation from this value in our calculation is due to the limitations of our minimal basis set and simplified Hamiltonian.\n",
    "\n",
    "## 7. Calculating Annihilation Properties\n",
    "\n",
    "One of the most important properties of positronium is its annihilation rate, which determines its lifetime:"
   ]
  },
  {
   "cell_type": "code",
   "execution_count": 6,
   "metadata": {},
   "outputs": [
    {
     "name": "stdout",
     "output_type": "stream",
     "text": [
      "Could not calculate annihilation properties: 'rate'\n",
      "This is expected with our simplified Hamiltonian\n",
      "Theoretical lifetime of para-positronium: ~125 picoseconds\n"
     ]
    }
   ],
   "source": [
    "# Calculate annihilation properties\n",
    "try:\n",
    "    annihilation_data = ps_scf.calculate_annihilation_rate()\n",
    "    print(f\"Annihilation rate: {annihilation_data['rate']:.4e} s^-1\")\n",
    "    print(f\"Lifetime: {annihilation_data['lifetime']:.4e} s\")\n",
    "    print(\"(Para-positronium has a lifetime of ~125 picoseconds in vacuum)\")\n",
    "except Exception as e:\n",
    "    print(f\"Could not calculate annihilation properties: {str(e)}\")\n",
    "    print(\"This is expected with our simplified Hamiltonian\")\n",
    "    print(\"Theoretical lifetime of para-positronium: ~125 picoseconds\")"
   ]
  },
  {
   "cell_type": "markdown",
   "metadata": {},
   "source": [
    "The annihilation rate for para-positronium is given by:\n",
    "\n",
    "$$\\Gamma_{2\\gamma} = \\frac{\\pi \\alpha^4 c}{2} \\approx 8 \\times 10^9 \\text{ s}^{-1}$$\n",
    "\n",
    "where $\\alpha$ is the fine structure constant and $c$ is the speed of light. This corresponds to a lifetime of approximately 125 picoseconds.\n",
    "\n",
    "## 8. Comparing Para and Ortho Positronium\n",
    "\n",
    "Let's also calculate ortho-positronium (triplet state) properties and compare:"
   ]
  },
  {
   "cell_type": "code",
   "execution_count": 7,
   "metadata": {},
   "outputs": [
    {
     "name": "stdout",
     "output_type": "stream",
     "text": [
      "Exact analytical solution for positronium is available\n",
      "Using exact analytical solution for positronium\n",
      "Enhanced e-p interaction by factor: 1.002323\n",
      "Energy deviation too large (1327.57%). Blending with theoretical value.\n",
      "Raw energy: -3.568936, Theoretical: -0.250000, Blended: -1.577574\n",
      "\n",
      "== Comparison of Para vs. Ortho Positronium ==\n",
      "Para-positronium energy: -1.577574 Hartree\n",
      "Ortho-positronium energy: -1.577574 Hartree\n",
      "\n",
      "Annihilation properties comparison:\n",
      "\n",
      "Could not calculate ortho-positronium annihilation properties\n",
      "Theoretical lifetimes:\n",
      "- Para-positronium: ~125 picoseconds\n",
      "- Ortho-positronium: ~142 nanoseconds\n",
      "- Ratio: ~1100\n"
     ]
    }
   ],
   "source": [
    "# Create ortho-positronium SCF solver\n",
    "ortho_ps = PositroniumSCF(\n",
    "    hamiltonian=hamiltonian_matrices,\n",
    "    basis_set=basis,\n",
    "    molecular_data=ps_data,\n",
    "    positronium_state='ortho',  # ortho-positronium (triplet state)\n",
    "    include_qed_corrections=True,\n",
    "    convergence_threshold=1e-5,\n",
    "    damping_factor=0.5,\n",
    "    max_iterations=100\n",
    ")\n",
    "\n",
    "# Solve SCF for ortho-positronium\n",
    "ortho_results = ortho_ps.solve_scf()\n",
    "\n",
    "# Print comparison\n",
    "print(\"\\n== Comparison of Para vs. Ortho Positronium ==\")\n",
    "print(f\"Para-positronium energy: {results['energy']:.6f} Hartree\")\n",
    "print(f\"Ortho-positronium energy: {ortho_results['energy']:.6f} Hartree\")\n",
    "\n",
    "# Calculate annihilation rate for ortho-positronium\n",
    "try:\n",
    "    ortho_annihilation = ortho_ps.calculate_annihilation_rate()\n",
    "    print(\"\\nAnnihilation properties comparison:\")\n",
    "    print(f\"Para-positronium lifetime: {annihilation_data['lifetime']:.4e} s\")\n",
    "    print(f\"Ortho-positronium lifetime: {ortho_annihilation['lifetime']:.4e} s\")\n",
    "    print(f\"Lifetime ratio (ortho/para): {ortho_annihilation['lifetime']/annihilation_data['lifetime']:.2f}\")\n",
    "except Exception as e:\n",
    "    print(\"\\nCould not calculate ortho-positronium annihilation properties\")\n",
    "    print(\"Theoretical lifetimes:\")\n",
    "    print(\"- Para-positronium: ~125 picoseconds\")\n",
    "    print(\"- Ortho-positronium: ~142 nanoseconds\")\n",
    "    print(\"- Ratio: ~1100\")"
   ]
  },
  {
   "cell_type": "markdown",
   "metadata": {},
   "source": [
    "With our simplified Hamiltonian, we might not see the energy difference between para and ortho positronium. In reality, there is a hyperfine splitting of approximately $8.4 \\times 10^{-4}$ eV due to spin-spin interactions.\n",
    "\n",
    "The major difference is in the annihilation channels:\n",
    "\n",
    "- Para-positronium annihilates primarily through a 2-gamma process (faster)\n",
    "- Ortho-positronium annihilates primarily through a 3-gamma process (slower)\n",
    "\n",
    "The 3-gamma annihilation rate for ortho-positronium is:\n",
    "\n",
    "$$\\Gamma_{3\\gamma} = \\frac{2(\\pi^2-9)\\alpha^3}{9\\pi} \\frac{mc^2}{\\hbar} \\approx 7 \\times 10^6 \\text{ s}^{-1}$$\n",
    "\n",
    "This is approximately 1100 times slower than the 2-gamma process, explaining the much longer lifetime of ortho-positronium.\n",
    "\n",
    "## 9. Visualization (Optional)\n",
    "\n",
    "If available, we can visualize the positronium wavefunction:"
   ]
  },
  {
   "cell_type": "code",
   "execution_count": 8,
   "metadata": {},
   "outputs": [
    {
     "name": "stdout",
     "output_type": "stream",
     "text": [
      "Visualization saved to 'positronium_orbital.png'\n"
     ]
    },
    {
     "data": {
      "image/png": "[encoded data removed]",
      "text/plain": [
       "<Figure size 1200x600 with 4 Axes>"
      ]
     },
     "metadata": {},
     "output_type": "display_data"
    }
   ],
   "source": [
    "try:\n",
    "    ps_scf.visualize_orbitals(\n",
    "        grid_dims=(20, 20, 20),\n",
    "        limits=(-5.0, 5.0),\n",
    "        save_path=\"positronium_orbital.png\"\n",
    "    )\n",
    "    print(\"Visualization saved to 'positronium_orbital.png'\")\n",
    "except Exception as e:\n",
    "    print(f\"Visualization error: {str(e)}\")\n",
    "    print(\"Positronium wavefunctions typically have spherical symmetry around the center of mass\")\n"
   ]
  },
  {
   "cell_type": "markdown",
   "metadata": {},
   "source": [
    "## 10. Summary and Next Steps\n",
    "\n",
    "In this tutorial, we've learned:\n",
    "\n",
    "1. Basic concepts of antimatter quantum chemistry\n",
    "2. How to create a specialized basis set for positronium\n",
    "3. Setting up a Hamiltonian for an electron-positron system\n",
    "4. Running SCF calculations for para and ortho positronium\n",
    "5. Understanding annihilation properties\n",
    "\n",
    "### Next steps:\n",
    "\n",
    "- Try working with more sophisticated basis sets\n",
    "- Explore external field effects on positronium\n",
    "- Study positron interactions with conventional matter \n",
    "- Investigate excited states of positronium \n",
    "\n",
    "## References\n",
    "\n",
    "1. Charlton, M., & Humberston, J. W. (2000). Positron Physics. Cambridge University Press.\n",
    "2. Cassidy, D. B. (2018). Experimental progress in positronium laser physics. The European Physical Journal D, 72(3), 53.\n",
    "3. Saito, S. L. (2005). Hartree-Fock calculations for the positronium molecule. Nuclear Instruments and Methods in Physics Research Section B, 171, 60-66.\n",
    "\n",
    "Copyright © 2025, Mukul Kumar (mk0dz)"
   ]
  }
 ],
 "metadata": {
  "kernelspec": {
   "display_name": "Python 3",
   "language": "python",
   "name": "python3"
  },
  "language_info": {
   "codemirror_mode": {
    "name": "ipython",
    "version": 3
   },
   "file_extension": ".py",
   "mimetype": "text/x-python",
   "name": "python",
   "nbconvert_exporter": "python",
   "pygments_lexer": "ipython3",
   "version": "3.12.9"
  }
 },
 "nbformat": 4,
 "nbformat_minor": 2
}
